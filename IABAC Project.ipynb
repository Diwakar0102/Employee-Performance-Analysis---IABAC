{
 "cells": [
  {
   "cell_type": "code",
   "execution_count": null,
   "id": "be25d45c",
   "metadata": {},
   "outputs": [],
   "source": [
    "pwd"
   ]
  },
  {
   "cell_type": "markdown",
   "id": "e291a931",
   "metadata": {},
   "source": [
    "# 1. Business problem"
   ]
  },
  {
   "cell_type": "markdown",
   "id": "1b5bbee8",
   "metadata": {},
   "source": [
    "* INX Future Inc ,(referred as INX ) , is one of the leading data analytics and automation solutions provider with over 15 years of global business presence. In recent years, the employee performance indexes are not healthy and this is becoming a growing concerns among the top management. There has been increased escalations on service delivery and client satisfaction levels came down by 8 percentage points.The CEO of company decided to analyse the current employee data and find the core underlying causes of this performance issues of the employees. Company also expects a clear indicators of non performing employees, so that any penalization of non-performing employee, if required, may not significantly affect other employee morals.\n",
    "\n",
    "\n",
    "\n",
    "* ##### The following insights are expected from this project.\n",
    "\n",
    "\n",
    "#### 1 Department-wise performance analysis\n",
    "\n",
    "#### 2. Identify top 3 factors affecting performance\n",
    "\n",
    "#### 3. Build a model to predict employee performance\n",
    "\n",
    "#### 4. Give improvement recommendations\n",
    "\n"
   ]
  },
  {
   "cell_type": "markdown",
   "id": "e90bd869",
   "metadata": {},
   "source": [
    "# 2. Set Up Directory Structure"
   ]
  },
  {
   "cell_type": "code",
   "execution_count": null,
   "id": "5472d053",
   "metadata": {},
   "outputs": [],
   "source": [
    "import os\n",
    "\n",
    "folders = [\n",
    "    \"Project Summary/Requirement\", \"Project Summary/Analysis\", \"Project Summary/Summary\",\n",
    "    \"data/raw\", \"data/processed\",\n",
    "    \"src/Data Processing\", \"src/models\", \"src/visualization\",\n",
    "    \"references\"\n",
    "]\n",
    "\n",
    "for folder in folders:\n",
    "    os.makedirs(folder, exist_ok=True)"
   ]
  },
  {
   "cell_type": "markdown",
   "id": "399e0091",
   "metadata": {},
   "source": [
    "# 3. Importing Library"
   ]
  },
  {
   "cell_type": "code",
   "execution_count": null,
   "id": "a60de005",
   "metadata": {},
   "outputs": [],
   "source": [
    "#importiung the basic library\n",
    "import numpy as np\n",
    "import pandas as pd\n",
    "import seaborn as sns\n",
    "import matplotlib.pyplot as plt\n",
    "import warnings\n",
    "warnings.filterwarnings('ignore')"
   ]
  },
  {
   "cell_type": "markdown",
   "id": "a9831a08",
   "metadata": {},
   "source": [
    "# 4. Load the Dataset"
   ]
  },
  {
   "cell_type": "code",
   "execution_count": null,
   "id": "ab447084",
   "metadata": {},
   "outputs": [],
   "source": [
    "df = pd.read_excel(r'C:\\Users\\Dell\\Music\\DATAMITES\\Projects\\IABAC Project\\Data.xls')\n",
    "df"
   ]
  },
  {
   "cell_type": "markdown",
   "id": "63e770bb",
   "metadata": {},
   "source": [
    "# 5. Basic Check"
   ]
  },
  {
   "cell_type": "code",
   "execution_count": null,
   "id": "45120f08",
   "metadata": {},
   "outputs": [],
   "source": [
    "df.head()"
   ]
  },
  {
   "cell_type": "code",
   "execution_count": null,
   "id": "5b59eb91",
   "metadata": {},
   "outputs": [],
   "source": [
    "df.tail()"
   ]
  },
  {
   "cell_type": "code",
   "execution_count": null,
   "id": "9bfe4f32",
   "metadata": {},
   "outputs": [],
   "source": [
    "df.shape"
   ]
  },
  {
   "cell_type": "code",
   "execution_count": null,
   "id": "29f00a3a",
   "metadata": {},
   "outputs": [],
   "source": [
    "df.columns"
   ]
  },
  {
   "cell_type": "code",
   "execution_count": null,
   "id": "ed3e9876",
   "metadata": {},
   "outputs": [],
   "source": [
    "df.describe()"
   ]
  },
  {
   "cell_type": "code",
   "execution_count": null,
   "id": "2cc2ca4a",
   "metadata": {},
   "outputs": [],
   "source": [
    "# Check that having object value\n",
    "df.describe(include='O')"
   ]
  },
  {
   "cell_type": "code",
   "execution_count": null,
   "id": "b8ab129d",
   "metadata": {},
   "outputs": [],
   "source": [
    "df.dtypes"
   ]
  },
  {
   "cell_type": "code",
   "execution_count": null,
   "id": "82afa0c8",
   "metadata": {},
   "outputs": [],
   "source": [
    "df.info()"
   ]
  },
  {
   "cell_type": "code",
   "execution_count": null,
   "id": "eb2e1e85",
   "metadata": {},
   "outputs": [],
   "source": [
    "df.columns"
   ]
  },
  {
   "cell_type": "code",
   "execution_count": null,
   "id": "b895265f",
   "metadata": {},
   "outputs": [],
   "source": [
    "df.isnull().sum()"
   ]
  },
  {
   "cell_type": "code",
   "execution_count": null,
   "id": "b6decf0c",
   "metadata": {},
   "outputs": [],
   "source": [
    "df.count()"
   ]
  },
  {
   "cell_type": "code",
   "execution_count": null,
   "id": "49e6a3d1",
   "metadata": {},
   "outputs": [],
   "source": [
    "#getting catagorial and numerical Features\n",
    "numerical_feature= [feature for feature in df.columns if df[feature].dtype!='O']\n",
    "categorical_feature=[feature for feature in df.columns if df[feature].dtype=='O']\n",
    "print('\\nWe have {} numerical feature:{}'.format(len(numerical_feature),numerical_feature))\n",
    "print('\\n\\nWe have {} categorical feature:{}'.format(len(categorical_feature),categorical_feature))"
   ]
  },
  {
   "cell_type": "markdown",
   "id": "dca823f8",
   "metadata": {},
   "source": [
    "# 6. Domain Analysis"
   ]
  },
  {
   "cell_type": "markdown",
   "id": "2cd57806",
   "metadata": {},
   "source": [
    "#### 1. JobSatisfaction, WorkLifeBalance, and Training are likely key performance influencers.\n",
    "\n",
    "#### 2.Tenure and YearsInCurrentRole can reflect experience and adaptation.\n",
    "\n",
    "#### 3. OverTime may increase output temporarily but may also reduce quality or satisfaction.\n",
    "\n",
    "#### 4. Salary and JobRole may cause bias—so interpret their influence carefully.\n",
    "\n",
    "#### 5. Avoid demographic bias: Age, Gender, and Marital Status should be handled cautiously or excluded from final models."
   ]
  },
  {
   "cell_type": "markdown",
   "id": "a2dfd42b",
   "metadata": {},
   "source": [
    "# 7. Exploratory Data Analysis (EDA)"
   ]
  },
  {
   "cell_type": "markdown",
   "id": "3df70e4e",
   "metadata": {},
   "source": [
    "## (a). Univariate Analysis"
   ]
  },
  {
   "cell_type": "code",
   "execution_count": null,
   "id": "8a1e39b5",
   "metadata": {},
   "outputs": [],
   "source": [
    "## Univariant analysis of Numerical feature\n",
    "plt.figure(figsize=(20,60))\n",
    "for i in range(0,len(numerical_feature)):\n",
    "    plt.subplot(10,2,i+1)\n",
    "    sns.histplot(df[numerical_feature[i]])\n",
    "    plt.xlabel(numerical_feature[i])\n",
    "    plt.tight_layout()"
   ]
  },
  {
   "cell_type": "markdown",
   "id": "6ef6f77b",
   "metadata": {},
   "source": [
    "### Insites\n",
    "\n",
    "* Average age of employee in the INX Future Inc is 36 whereas the maximum employee lies in the age group of 25 to 45.\n",
    "* Many employees resides near the office.\n",
    "* Many employees has given rating as 3.0 for employee job environment.\n",
    "* Many employees has worked for 0-1 company.\n",
    "* most of the employee got salary hike of 0-12%.\n",
    "* most of the employee has given performance rating as 3."
   ]
  },
  {
   "cell_type": "code",
   "execution_count": null,
   "id": "29c7639d",
   "metadata": {},
   "outputs": [],
   "source": [
    "# 2. Univariate analysis of categorical features\n",
    "plt.figure(figsize=(20, 5 * len(categorical_feature))) \n",
    "\n",
    "for i, feature in enumerate(categorical_feature):\n",
    "    plt.subplot(len(categorical_feature), 1, i + 1)\n",
    "    sns.countplot(data=df, x=feature, palette='Set2')\n",
    "    plt.xlabel(feature)\n",
    "    plt.title(f'Distribution of {feature}')\n",
    "    plt.xticks(rotation=45)\n",
    "\n",
    "plt.tight_layout()\n",
    "plt.show()"
   ]
  },
  {
   "cell_type": "markdown",
   "id": "96e6ed38",
   "metadata": {},
   "source": [
    "### Insites\n",
    "\n",
    "* Focus performance improvement or resource allocation where workforce is concentrated.\n",
    "* Target training or hiring strategies based on dominant education backgrounds.\n",
    "* Consider policies to promote diversity and equal opportunity.\n",
    "* A high attrition count is a red flag. Investigate causes such as low job satisfaction or poor work-life balance.\n",
    "* Consistent overtime could lead to burnout and declining performance. HR should monitor and regulate workloads."
   ]
  },
  {
   "cell_type": "markdown",
   "id": "b9def0e4",
   "metadata": {},
   "source": [
    "## (b). Bivariate Analysis"
   ]
  },
  {
   "cell_type": "code",
   "execution_count": null,
   "id": "602a6fd3",
   "metadata": {},
   "outputs": [],
   "source": [
    "# 1. Biavariate analysis of Categorical vs Target (Boxplot)\n",
    "# EmpDepartment vs PerformanceRating\n",
    "plt.figure(figsize=(10, 5))\n",
    "sns.boxplot(data=df, x='EmpDepartment', y='PerformanceRating', palette='Set2')\n",
    "plt.title(\"Performance Rating by Department\")\n",
    "plt.xticks(rotation=45)\n",
    "plt.show()"
   ]
  },
  {
   "cell_type": "code",
   "execution_count": null,
   "id": "1a2b2a34",
   "metadata": {},
   "outputs": [],
   "source": [
    "# 2. Biavariate analysis of Categorical vs Target (Barplot: Average Performance)\n",
    "# OverTime vs PerformanceRating\n",
    "plt.figure(figsize=(6, 4))\n",
    "sns.boxplot(data=df, x='OverTime', y='PerformanceRating', palette='coolwarm')\n",
    "plt.title(\"Performance Rating by Overtime\")\n",
    "plt.show()"
   ]
  },
  {
   "cell_type": "code",
   "execution_count": null,
   "id": "83831f90",
   "metadata": {},
   "outputs": [],
   "source": [
    "# 3. Biavariate analysis of Numerical vs Target (Scatterplot)\n",
    "# ExperienceYearsAtThisCompany vs PerformanceRating\n",
    "plt.figure(figsize=(6, 4))\n",
    "sns.scatterplot(data=df, x='ExperienceYearsAtThisCompany', y='PerformanceRating', hue='EmpDepartment')\n",
    "plt.title(\"Performance vs Tenure (by Department)\")\n",
    "plt.show()\n"
   ]
  },
  {
   "cell_type": "code",
   "execution_count": null,
   "id": "e96cde72",
   "metadata": {},
   "outputs": [],
   "source": [
    "# 3. Numerical vs Target (Scatterplot)\n",
    "# ExperienceYearsAtThisCompany vs PerformanceRating\n",
    "pd.crosstab(df['OverTime'], df['Attrition'], normalize='index').plot(kind='bar', stacked=True)\n",
    "plt.title(\"Attrition Rate by Overtime\")\n",
    "plt.ylabel(\"Proportion\")\n",
    "plt.show()"
   ]
  },
  {
   "cell_type": "markdown",
   "id": "cedaacb0",
   "metadata": {},
   "source": [
    "### Insites \n",
    "* EmpDepartment vs Performance - Some departments (e.g., Sales or HR) may have consistently lower ratings.\n",
    "* OverTime vs Performance - Employees working overtime tend to have slightly lower performance.\n",
    "* ExperienceYearsAtThisCompany vs Performance - Longer tenure often correlates with better performance.\n",
    "* Attrition vs OverTime - High overtime is associated with higher attrition risk."
   ]
  },
  {
   "cell_type": "markdown",
   "id": "a82a1632",
   "metadata": {},
   "source": [
    "## (C). Multivariate Analysis"
   ]
  },
  {
   "cell_type": "code",
   "execution_count": null,
   "id": "cca578e6",
   "metadata": {},
   "outputs": [],
   "source": [
    "sns.pairplot(df[['PerformanceRating', 'ExperienceYearsAtThisCompany', 'Age', 'EmpJobSatisfaction']])\n",
    "plt.suptitle(\"Multivariate Relationship Overview\", y=1.02)\n",
    "plt.show()"
   ]
  },
  {
   "cell_type": "markdown",
   "id": "ccd404f4",
   "metadata": {},
   "source": [
    "### Insites \n",
    "\n",
    "* As expected, older employees tend to have more work experience. Including both in the model might introduce redundancy.\n",
    "* These features overlap heavily in what they measure — employee tenure and role stability.\n",
    "* Higher job level often means more experience, better salary hikes, and higher satisfaction — leading to better performance\n",
    "* Training frequency alone doesn’t strongly relate to performance or experience.\n",
    "* Older employees might live farther, but this doesn’t strongly affect job performance."
   ]
  },
  {
   "cell_type": "markdown",
   "id": "ac0de934",
   "metadata": {},
   "source": [
    "## Department-wise Performance Analysis"
   ]
  },
  {
   "cell_type": "code",
   "execution_count": null,
   "id": "524abe4f",
   "metadata": {},
   "outputs": [],
   "source": [
    "###  1. Groupby Department and Calculate Mean Performance\n",
    "dept_perf = df.groupby('EmpDepartment')['PerformanceRating'].mean().sort_values(ascending=False)\n",
    "print(dept_perf)"
   ]
  },
  {
   "cell_type": "code",
   "execution_count": null,
   "id": "e02dff1a",
   "metadata": {},
   "outputs": [],
   "source": [
    "#visualisation\n",
    "plt.figure(figsize=(10,5))\n",
    "sns.barplot(x=dept_perf.index, y=dept_perf.values, palette='Set2')\n",
    "plt.title('Average Performance Rating by EmpDepartment')\n",
    "plt.xlabel('EmpDepartment')\n",
    "plt.ylabel('Average Performance Rating')\n",
    "plt.xticks(rotation=45)\n",
    "plt.show()"
   ]
  },
  {
   "cell_type": "code",
   "execution_count": null,
   "id": "8896b1ba",
   "metadata": {},
   "outputs": [],
   "source": [
    "## 2. Attrition Rate by EmpDepartment\n",
    "df['Attrition'] = df['Attrition'].map({'Yes': 1, 'No': 0})  # Convert to numeric\n",
    "df.groupby('EmpDepartment')['Attrition'].mean().sort_values(ascending=False)"
   ]
  },
  {
   "cell_type": "code",
   "execution_count": null,
   "id": "f4c711f9",
   "metadata": {},
   "outputs": [],
   "source": [
    "# visualisation \n",
    "# Ensure Attrition is numeric\n",
    "df['Attrition'] = df['Attrition'].map({'Yes': 1, 'No': 0})\n",
    "\n",
    "plt.figure(figsize=(10, 5))\n",
    "attrition = df.groupby('EmpDepartment')['Attrition'].mean().sort_values()\n",
    "sns.barplot(x=attrition.index, y=attrition.values, palette='Reds_r')\n",
    "plt.title(\"Attrition Rate by EmpDepartment\")\n",
    "plt.ylabel(\"Attrition Rate\")\n",
    "plt.xticks(rotation=45)\n",
    "plt.show()"
   ]
  },
  {
   "cell_type": "code",
   "execution_count": null,
   "id": "8c3263da",
   "metadata": {},
   "outputs": [],
   "source": [
    "## 3. Average Job Satisfaction by EmpDepartment\n",
    "df.groupby('EmpDepartment')['EmpJobSatisfaction'].mean().sort_values(ascending=False)"
   ]
  },
  {
   "cell_type": "code",
   "execution_count": null,
   "id": "84dd96ea",
   "metadata": {},
   "outputs": [],
   "source": [
    "# Visualisation \n",
    "plt.figure(figsize=(10, 5))\n",
    "satisfaction = df.groupby('EmpDepartment')['EmpJobSatisfaction'].mean().sort_values()\n",
    "sns.barplot(x=satisfaction.index, y=satisfaction.values, palette='Greens_r')\n",
    "plt.title(\"Average Job Satisfaction by EmpDepartment\")\n",
    "plt.ylabel(\"Satisfaction Score\")\n",
    "plt.xticks(rotation=45)\n",
    "plt.show()\n"
   ]
  },
  {
   "cell_type": "code",
   "execution_count": null,
   "id": "57d19143",
   "metadata": {},
   "outputs": [],
   "source": [
    "# 4. OverTime Distribution by EmpDepartment\n",
    "overtime_dist = pd.crosstab(df['EmpDepartment'], df['OverTime'], normalize='index')\n",
    "overtime_dist.plot(kind='bar', stacked=True, figsize=(10,5), colormap='coolwarm')\n",
    "plt.title('OverTime Proportion by EmpDepartment')\n",
    "plt.ylabel('Proportion')\n",
    "plt.show()\n"
   ]
  },
  {
   "cell_type": "code",
   "execution_count": null,
   "id": "4028dd2d",
   "metadata": {},
   "outputs": [],
   "source": [
    "# 5. Average Years in Current Role by Department\n",
    "plt.figure(figsize=(10, 5))\n",
    "years_role = df.groupby('EmpDepartment')['ExperienceYearsInCurrentRole'].mean().sort_values()\n",
    "sns.barplot(x=years_role.index, y=years_role.values, palette='Purples_r')\n",
    "plt.title(\"Average Years in Current Role by EmpDepartment\")\n",
    "plt.ylabel(\"Years\")\n",
    "plt.xticks(rotation=45)\n",
    "plt.show()"
   ]
  },
  {
   "cell_type": "markdown",
   "id": "2921b133",
   "metadata": {},
   "source": [
    "# 8. Data processing"
   ]
  },
  {
   "cell_type": "code",
   "execution_count": null,
   "id": "0b799272",
   "metadata": {},
   "outputs": [],
   "source": [
    "df.info()"
   ]
  },
  {
   "cell_type": "code",
   "execution_count": null,
   "id": "e1f7bceb",
   "metadata": {},
   "outputs": [],
   "source": [
    "# 1. Check for Missing Value\n",
    "df.isnull().sum()"
   ]
  },
  {
   "cell_type": "code",
   "execution_count": null,
   "id": "a5157885",
   "metadata": {},
   "outputs": [],
   "source": [
    "# Handeling the missing value of Attrition\n",
    "df['Attrition'].unique()"
   ]
  },
  {
   "cell_type": "code",
   "execution_count": null,
   "id": "c9b25374",
   "metadata": {},
   "outputs": [],
   "source": [
    "df.drop(columns=['Attrition'], inplace=True)"
   ]
  },
  {
   "cell_type": "code",
   "execution_count": null,
   "id": "52de0b0b",
   "metadata": {},
   "outputs": [],
   "source": [
    "df.isnull().sum()"
   ]
  },
  {
   "cell_type": "code",
   "execution_count": null,
   "id": "665ebd6a",
   "metadata": {},
   "outputs": [],
   "source": [
    "# 2. Check for Duplicate\n",
    "\n",
    "df.duplicated().sum()"
   ]
  },
  {
   "cell_type": "code",
   "execution_count": null,
   "id": "6c0a0f00",
   "metadata": {},
   "outputs": [],
   "source": [
    "df.dtypes\n"
   ]
  },
  {
   "cell_type": "code",
   "execution_count": null,
   "id": "899c1bdc",
   "metadata": {},
   "outputs": [],
   "source": [
    "numerical_cols = df.select_dtypes(include='number').columns.tolist()\n",
    "print(numerical_cols)"
   ]
  },
  {
   "cell_type": "code",
   "execution_count": null,
   "id": "b8a3cc6f",
   "metadata": {},
   "outputs": [],
   "source": [
    "#checking outliers\n",
    "plt.figure(figsize=(10,40))\n",
    "plotnumber=1\n",
    "for column in numerical_feature:\n",
    "    if plotnumber<=28:\n",
    "        ax=plt.subplot(18,2,plotnumber)\n",
    "        sns.boxplot(df[column])\n",
    "        plt.xlabel(column,fontsize=15)\n",
    "    plotnumber+=1\n",
    "plt.tight_layout()"
   ]
  },
  {
   "cell_type": "markdown",
   "id": "e5e5bcb9",
   "metadata": {},
   "source": [
    "### Outlier Handling\n",
    "* If it is normal distribution we will use impirical rule or 3 sigma rule.\n",
    "* if it is non normal we will use IQR for removing outliers.\n",
    "* For Normal distribution the skewness and kurtosis should be in the range of -1 to 1."
   ]
  },
  {
   "cell_type": "code",
   "execution_count": null,
   "id": "240b9ab0",
   "metadata": {},
   "outputs": [],
   "source": [
    "# TotalWorkExperienceInYears is normally distributed hence we use 3 sigma rule to remove outliers\n",
    "lower_limit=df.TotalWorkExperienceInYears.mean() - 3*df.TotalWorkExperienceInYears.std()##calculating lower limit\n",
    "print(lower_limit)\n",
    "\n",
    "upper_limit=df.TotalWorkExperienceInYears.mean() + 3*df.TotalWorkExperienceInYears.std()#calculating upper limit\n",
    "print(upper_limit)\n",
    "df.loc[df['TotalWorkExperienceInYears']<lower_limit]#checking values which are less than minimum limit\n",
    "df.loc[df['TotalWorkExperienceInYears']>upper_limit]#checking values which are greater than maximum limit\n",
    "display(len(df.loc[df['TotalWorkExperienceInYears']>upper_limit])/1200) #checking percent of outliers\n",
    "df.loc[df['TotalWorkExperienceInYears']>upper_limit,'TotalWorkExperienceInYears']=np.mean(df.TotalWorkExperienceInYears) #imputing value with mean as outliers percentage are less than 5%\n",
    "display(df.loc[df['TotalWorkExperienceInYears']>upper_limit]) #reckeck"
   ]
  },
  {
   "cell_type": "code",
   "execution_count": null,
   "id": "d2ef322b",
   "metadata": {},
   "outputs": [],
   "source": [
    "#ExperienceYearsAtThisCompany is not normally distributed hence we use IQR rule to remove outliers\n",
    "from scipy import stats\n",
    "IQR = stats.iqr(df.ExperienceYearsAtThisCompany, interpolation = 'midpoint') #calculating Inter quantile range\n",
    "display(IQR)\n",
    "Q1=df.ExperienceYearsAtThisCompany.quantile(0.25)#defining 25% of data\n",
    "Q3=df.ExperienceYearsAtThisCompany.quantile(0.75)##defining 75% of data\n",
    "min_limit=Q1 - 1.5*IQR #setting minimum limit\n",
    "max_limit=Q3 + 1.5*IQR #setting maximum limit\n",
    "display(df.loc[df['ExperienceYearsAtThisCompany']<min_limit]) #checking values which are less than minimum limit\n",
    "display(df.loc[df['ExperienceYearsAtThisCompany']>max_limit])#checking values which are greater than maximum limit\n",
    "display(len(df.loc[df['ExperienceYearsAtThisCompany']>max_limit])/18278)\n",
    "#imputing outlier with with median\n",
    "df.loc[df['ExperienceYearsAtThisCompany']>max_limit,'ExperienceYearsAtThisCompany']=np.median(df.ExperienceYearsAtThisCompany)\n",
    "df.loc[df['ExperienceYearsAtThisCompany']>max_limit] #checking whether outlier remove or not"
   ]
  },
  {
   "cell_type": "code",
   "execution_count": null,
   "id": "2c250988",
   "metadata": {},
   "outputs": [],
   "source": [
    "# ExperienceYearsInCurrentRole is normally distributed hence we use 3 sigma rule to remove outliers\n",
    "lower_limit=df.ExperienceYearsInCurrentRole.mean() - 3*df.ExperienceYearsInCurrentRole.std()##calculating lower limit\n",
    "display(lower_limit)\n",
    "\n",
    "upper_limit=df.ExperienceYearsInCurrentRole.mean() + 3*df.ExperienceYearsInCurrentRole.std()#calculating upper limit\n",
    "display(upper_limit)\n",
    "display(df.loc[df['ExperienceYearsInCurrentRole']<lower_limit])#checking values which are less than minimum limit\n",
    "display(df.loc[df['ExperienceYearsInCurrentRole']>upper_limit])#checking values which are greater than maximum limit\n",
    "display(len(df.loc[df['ExperienceYearsInCurrentRole']>upper_limit])/1200) #checking percent of outliers\n",
    "df.loc[df['ExperienceYearsInCurrentRole']>upper_limit,'ExperienceYearsInCurrentRole']=np.mean(df.ExperienceYearsInCurrentRole) #imputing value with mean as outliers percentage are less than 5%\n",
    "display(df.loc[df['ExperienceYearsInCurrentRole']>upper_limit]) #reckeck"
   ]
  },
  {
   "cell_type": "code",
   "execution_count": null,
   "id": "e8fca4f5",
   "metadata": {},
   "outputs": [],
   "source": [
    "# YearsSinceLastPromotion is not normally distributed hence we use IQR rule to remove outliers\n",
    "IQR = stats.iqr(df.YearsSinceLastPromotion, interpolation = 'midpoint') #calculating Inter quantile range\n",
    "display(IQR)\n",
    "Q1=df.YearsSinceLastPromotion.quantile(0.25)#defining 25% of data\n",
    "Q3=df.YearsSinceLastPromotion.quantile(0.75)##defining 75% of data\n",
    "min_limit=Q1 - 1.5*IQR #setting minimum limit\n",
    "max_limit=Q3 + 1.5*IQR #setting maximum limit\n",
    "display(df.loc[df['YearsSinceLastPromotion']<min_limit]) #checking values which are less than minimum limit\n",
    "display(df.loc[df['YearsSinceLastPromotion']>max_limit])#checking values which are greater than maximum limit\n",
    "display(len(df.loc[df['YearsSinceLastPromotion']>max_limit])/18278)\n",
    "#imputing outlier with with median\n",
    "df.loc[df['YearsSinceLastPromotion']>max_limit,'YearsSinceLastPromotion']=np.median(df.YearsSinceLastPromotion)\n",
    "df.loc[df['YearsSinceLastPromotion']>max_limit] #checking whether outlier remove or not"
   ]
  },
  {
   "cell_type": "code",
   "execution_count": null,
   "id": "ee24eb1f",
   "metadata": {},
   "outputs": [],
   "source": [
    "# YearsWithCurrManager is normally distributed hence we use 3 sigma rule to remove outliers\n",
    "lower_limit=df.YearsWithCurrManager.mean() - 3*df.YearsWithCurrManager.std()##calculating lower limit\n",
    "print(lower_limit)\n",
    "\n",
    "upper_limit=df.YearsWithCurrManager.mean() + 3*df.YearsWithCurrManager.std()#calculating upper limit\n",
    "print(upper_limit)\n",
    "display(df.loc[df['YearsWithCurrManager']<lower_limit])#checking values which are less than minimum limit\n",
    "display(df.loc[df['YearsWithCurrManager']>upper_limit])#checking values which are greater than maximum limit\n",
    "display(len(df.loc[df['YearsWithCurrManager']>upper_limit])/1200) #checking percent of outliers\n",
    "df.loc[df['YearsWithCurrManager']>upper_limit,'YearsWithCurrManager']=np.mean(df.YearsWithCurrManager) #imputing value with mean as outliers percentage are less than 5%\n",
    "display(df.loc[df['YearsWithCurrManager']>upper_limit]) #reckeck"
   ]
  },
  {
   "cell_type": "code",
   "execution_count": null,
   "id": "9c674d40",
   "metadata": {},
   "outputs": [],
   "source": [
    "df.head()"
   ]
  },
  {
   "cell_type": "code",
   "execution_count": null,
   "id": "67eaa0aa",
   "metadata": {},
   "outputs": [],
   "source": []
  }
 ],
 "metadata": {
  "kernelspec": {
   "display_name": "Python 3 (ipykernel)",
   "language": "python",
   "name": "python3"
  },
  "language_info": {
   "codemirror_mode": {
    "name": "ipython",
    "version": 3
   },
   "file_extension": ".py",
   "mimetype": "text/x-python",
   "name": "python",
   "nbconvert_exporter": "python",
   "pygments_lexer": "ipython3",
   "version": "3.11.5"
  }
 },
 "nbformat": 4,
 "nbformat_minor": 5
}
